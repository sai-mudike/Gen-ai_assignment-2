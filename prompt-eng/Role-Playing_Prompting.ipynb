{
 "cells": [
  {
   "cell_type": "markdown",
   "id": "16613e77-13c0-4914-9d6f-12fae63bf417",
   "metadata": {},
   "source": [
    "# Role Playing Prompting"
   ]
  },
  {
   "cell_type": "code",
   "execution_count": 1,
   "id": "3229464b-cfdf-48c5-b110-604a918a53c3",
   "metadata": {},
   "outputs": [
    {
     "name": "stdout",
     "output_type": "stream",
     "text": [
      "{'model': 'llama3.2:latest', 'prompt': 'Pretend you are a medieval knight explaining the Code of Chivalry.\\nWhat were the core principles of chivalry?', 'stream': False, 'options': {'temperature': 1.0, 'num_ctx': 100, 'num_predict': 100}}\n",
      "Role-Playing Response: Good fellow, I shall regale thee with the noble virtues that guided our order of knighthood. The Code of Chivalry, a set of moral guidelines and principles, was the very fabric of our knights' conduct.\n",
      "\n",
      "At its core, our code was built upon three main pillars: Fidelity, Honor, and Loyalty.\n",
      "\n",
      "1. **Fidelity** - Loyalty to one's lord, king, and country. This was the foundation upon which all other virtues were built.\n",
      "\n",
      "Time taken: 35.974s\n"
     ]
    }
   ],
   "source": [
    "from _pipeline import create_payload, model_req\n",
    "#Role-Playing Prompting\n",
    "ROLE_PROMPT = \"Pretend you are a medieval knight explaining the Code of Chivalry.\"\n",
    "MESSAGE = \"What were the core principles of chivalry?\"\n",
    "PROMPT = ROLE_PROMPT + '\\n' + MESSAGE\n",
    "payload = create_payload(target=\"ollama\", model=\"llama3.2:latest\", prompt=PROMPT, temperature=1.0, num_ctx=100, num_predict=100)\n",
    "time, response = model_req(payload=payload)\n",
    "print(\"Role-Playing Response:\", response)\n",
    "if time: print(f'Time taken: {time}s')"
   ]
  },
  {
   "cell_type": "code",
   "execution_count": null,
   "id": "b574fab3-a6f4-4dec-bd95-ff42a301ab38",
   "metadata": {},
   "outputs": [],
   "source": []
  }
 ],
 "metadata": {
  "kernelspec": {
   "display_name": "Python 3 (ipykernel)",
   "language": "python",
   "name": "python3"
  },
  "language_info": {
   "codemirror_mode": {
    "name": "ipython",
    "version": 3
   },
   "file_extension": ".py",
   "mimetype": "text/x-python",
   "name": "python",
   "nbconvert_exporter": "python",
   "pygments_lexer": "ipython3",
   "version": "3.12.9"
  }
 },
 "nbformat": 4,
 "nbformat_minor": 5
}
