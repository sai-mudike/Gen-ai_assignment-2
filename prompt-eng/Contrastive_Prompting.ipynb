{
 "cells": [
  {
   "cell_type": "markdown",
   "id": "8fb2eea5-016a-4ca8-b9cf-f60a7f8f7552",
   "metadata": {},
   "source": [
    "# Contrastive Prompting"
   ]
  },
  {
   "cell_type": "code",
   "execution_count": 1,
   "id": "3229464b-cfdf-48c5-b110-604a918a53c3",
   "metadata": {},
   "outputs": [
    {
     "name": "stdout",
     "output_type": "stream",
     "text": [
      "{'model': 'llama3.2:latest', 'prompt': 'Compare and contrast the leadership styles of Julius Caesar and Augustus.', 'stream': False, 'options': {'temperature': 1.0, 'num_ctx': 100, 'num_predict': 100}}\n",
      "Contrastive Prompting Response: Julius Caesar and Augustus were two of the most influential leaders in ancient Rome, both of whom rose to power through a combination of military prowess, strategic alliances, and effective governance. While both men shared some similarities in their leadership styles, there were also significant differences between them.\n",
      "\n",
      "**Similarities:**\n",
      "\n",
      "1. **Strong Leadership**: Both Julius Caesar and Augustus (Augustus being Caesar's adopted son and successor) demonstrated strong leadership skills, which helped them gain the loyalty of their troops and the\n",
      "Time taken: 35.784s\n"
     ]
    }
   ],
   "source": [
    "from _pipeline import create_payload, model_req\n",
    "\n",
    "#Contrastive Prompting\n",
    "CONTRAST_PROMPT = \"Compare and contrast the leadership styles of Julius Caesar and Augustus.\"\n",
    "payload = create_payload(target=\"ollama\", model=\"llama3.2:latest\", prompt=CONTRAST_PROMPT, temperature=1.0, num_ctx=100, num_predict=100)\n",
    "time, response = model_req(payload=payload)\n",
    "print(\"Contrastive Prompting Response:\", response)\n",
    "\n",
    "if time: print(f'Time taken: {time}s')"
   ]
  },
  {
   "cell_type": "code",
   "execution_count": null,
   "id": "b574fab3-a6f4-4dec-bd95-ff42a301ab38",
   "metadata": {},
   "outputs": [],
   "source": []
  }
 ],
 "metadata": {
  "kernelspec": {
   "display_name": "Python 3 (ipykernel)",
   "language": "python",
   "name": "python3"
  },
  "language_info": {
   "codemirror_mode": {
    "name": "ipython",
    "version": 3
   },
   "file_extension": ".py",
   "mimetype": "text/x-python",
   "name": "python",
   "nbconvert_exporter": "python",
   "pygments_lexer": "ipython3",
   "version": "3.12.9"
  }
 },
 "nbformat": 4,
 "nbformat_minor": 5
}
