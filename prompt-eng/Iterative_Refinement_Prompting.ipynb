{
 "cells": [
  {
   "cell_type": "markdown",
   "id": "41192ab4-cd67-4fd4-9bc3-278d30d9e114",
   "metadata": {},
   "source": [
    "# Iterative Refinement Prompting"
   ]
  },
  {
   "cell_type": "code",
   "execution_count": 1,
   "id": "3229464b-cfdf-48c5-b110-604a918a53c3",
   "metadata": {},
   "outputs": [
    {
     "name": "stdout",
     "output_type": "stream",
     "text": [
      "{'model': 'llama3.2:latest', 'prompt': 'Draft a short paragraph summarizing the Enlightenment.', 'stream': False, 'options': {'temperature': 1.0, 'num_ctx': 100, 'num_predict': 100}}\n",
      "Initial Iterative Response: The Enlightenment, which spanned from the late 17th to the early 19th century, was a cultural and intellectual movement that emphasized reason, individualism, and progress. This philosophical and scientific era saw thinkers such as René Descartes, John Locke, and Immanuel Kant challenge traditional authority and superstition in favor of evidence-based inquiry and critical thinking. The Enlightenment's impact was felt far beyond the realm of philosophy, shaping modern politics, science, art, and everyday life with its\n",
      "{'model': 'llama3.2:latest', 'prompt': \"Improve this response by making it more concise: The Enlightenment, which spanned from the late 17th to the early 19th century, was a cultural and intellectual movement that emphasized reason, individualism, and progress. This philosophical and scientific era saw thinkers such as René Descartes, John Locke, and Immanuel Kant challenge traditional authority and superstition in favor of evidence-based inquiry and critical thinking. The Enlightenment's impact was felt far beyond the realm of philosophy, shaping modern politics, science, art, and everyday life with its\", 'stream': False, 'options': {'temperature': 1.0, 'num_ctx': 100, 'num_predict': 100}}\n",
      "Refined Iterative Response: ideals of reason, individualism, and progress. Here are some key aspects of the Enlightenment's influence on various fields:\n",
      "\n",
      "**Politics:**\n",
      "\n",
      "* **Democracy**: The Enlightenment emphasized the importance of representative government and the rights of citizens.\n",
      "* **Human Rights**: Thinkers like John Locke and Jean-Jacques Rousseau advocated for universal human rights and the social contract.\n",
      "* **Liberalism**: Ideas like tolerance, freedom of speech, and separation of church and state gained prominence.\n",
      "\n",
      "The Enlightenment\n",
      "Time taken: 36.787s\n"
     ]
    }
   ],
   "source": [
    "from _pipeline import create_payload, model_req\n",
    "\n",
    "#Iterative Refinement Prompting\n",
    "REFINEMENT_PROMPT = \"Draft a short paragraph summarizing the Enlightenment.\"\n",
    "payload = create_payload(target=\"ollama\", model=\"llama3.2:latest\", prompt=REFINEMENT_PROMPT, temperature=1.0, num_ctx=100, num_predict=100)\n",
    "time, response = model_req(payload=payload)\n",
    "print(\"Initial Iterative Response:\", response)\n",
    "NEW_PROMPT = \"Improve this response by making it more concise: \" + response\n",
    "payload = create_payload(target=\"ollama\", model=\"llama3.2:latest\", prompt=NEW_PROMPT, temperature=1.0, num_ctx=100, num_predict=100)\n",
    "time, response = model_req(payload=payload)\n",
    "print(\"Refined Iterative Response:\", response)\n",
    "if time: print(f'Time taken: {time}s')"
   ]
  },
  {
   "cell_type": "code",
   "execution_count": null,
   "id": "b574fab3-a6f4-4dec-bd95-ff42a301ab38",
   "metadata": {},
   "outputs": [],
   "source": []
  }
 ],
 "metadata": {
  "kernelspec": {
   "display_name": "Python 3 (ipykernel)",
   "language": "python",
   "name": "python3"
  },
  "language_info": {
   "codemirror_mode": {
    "name": "ipython",
    "version": 3
   },
   "file_extension": ".py",
   "mimetype": "text/x-python",
   "name": "python",
   "nbconvert_exporter": "python",
   "pygments_lexer": "ipython3",
   "version": "3.12.9"
  }
 },
 "nbformat": 4,
 "nbformat_minor": 5
}
