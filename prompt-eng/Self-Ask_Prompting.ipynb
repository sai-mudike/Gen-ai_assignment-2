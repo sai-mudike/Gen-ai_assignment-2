{
 "cells": [
  {
   "cell_type": "markdown",
   "id": "e1024e29-ead2-4c3e-a0c8-cdfd9ca555e1",
   "metadata": {},
   "source": [
    "# Chain-of-Thought Prompting"
   ]
  },
  {
   "cell_type": "code",
   "execution_count": 1,
   "id": "3229464b-cfdf-48c5-b110-604a918a53c3",
   "metadata": {},
   "outputs": [
    {
     "name": "stdout",
     "output_type": "stream",
     "text": [
      "{'model': 'llama3.2:latest', 'prompt': \"\\nYou are an expert in software requirement analysis for educational chatbots.\\nAutomatically generate a detailed list of requirements for 'Pastpal', a Discord-based chatbot designed to help students learn history interactively.\\nInclude:\\n- Functional requirements (e.g., providing tutoring assistance, interactive historical timelines, answering history questions).\\n- Non-functional requirements (e.g., scalability, fast response time, ease-of-use, reliability).\\n- Integration requirements with Discord (e.g., command handling, user authentication, notification system).\\n- Engagement features (e.g., interactive quizzes, multimedia integration, feedback mechanisms).\\nPresent the requirements as bullet points.\\n\", 'stream': False, 'options': {'temperature': 1.0, 'num_ctx': 150, 'num_predict': 200}}\n",
      "New Level-0 Automation Prompting Response: **Pastpal: History Education Platform Requirements**\n",
      "\n",
      "**Functional Requirements**\n",
      "\n",
      "* **History Content**:\n",
      "\t+ Provide a vast repository of historical information on various topics and periods\n",
      "\t+ Include engaging multimedia content such as images, videos, and audio clips\n",
      "\t+ Support for multiple languages and dialects\n",
      "* **Question Answering and Feedback**:\n",
      "\t+ Develop an AI-powered question answering system to help users learn from their mistakes\n",
      "\t+ Provide real-time feedback and explanations on correct answers\n",
      "\t+ Allow users to track their progress and identify areas of improvement\n",
      "* **Interactive Learning Tools**:\n",
      "\t+ Incorporate interactive features such as quizzes, games, and simulations to make learning fun and engaging\n",
      "\t+ Support for different learning styles (visual, auditory, kinesthetic)\n",
      "* **Virtual Field Trips and Resources**:\n",
      "\t+ Partner with educational institutions and organizations to provide virtual field trips and resources\n",
      "\t+ Offer access to expert lectures, videos, and documentaries on various subjects\n",
      "\n",
      "By incorporating these\n",
      "Time taken: 67.363s\n"
     ]
    }
   ],
   "source": [
    "from _pipeline import create_payload, model_req\n",
    "\n",
    "# New Level-0 Automation Prompting Technique: Self-Generated Requirement Analysis\n",
    "NEW_AUTOMATION_PROMPT = \"\"\"\n",
    "You are an expert in software requirement analysis for educational chatbots.\n",
    "Automatically generate a detailed list of requirements for 'Pastpal', a Discord-based chatbot designed to help students learn history interactively.\n",
    "Include:\n",
    "- Functional requirements (e.g., providing tutoring assistance, interactive historical timelines, answering history questions).\n",
    "- Non-functional requirements (e.g., scalability, fast response time, ease-of-use, reliability).\n",
    "- Integration requirements with Discord (e.g., command handling, user authentication, notification system).\n",
    "- Engagement features (e.g., interactive quizzes, multimedia integration, feedback mechanisms).\n",
    "Present the requirements as bullet points.\n",
    "\"\"\"\n",
    "\n",
    "payload = create_payload(\n",
    "    target=\"ollama\",\n",
    "    model=\"llama3.2:latest\",\n",
    "    prompt=NEW_AUTOMATION_PROMPT,\n",
    "    temperature=1.0,\n",
    "    num_ctx=150,\n",
    "    num_predict=200\n",
    ")\n",
    "time, response = model_req(payload=payload)\n",
    "print(\"New Level-0 Automation Prompting Response:\", response)\n",
    "\n",
    "if time: print(f'Time taken: {time}s')"
   ]
  },
  {
   "cell_type": "code",
   "execution_count": null,
   "id": "b574fab3-a6f4-4dec-bd95-ff42a301ab38",
   "metadata": {},
   "outputs": [],
   "source": []
  }
 ],
 "metadata": {
  "kernelspec": {
   "display_name": "Python 3 (ipykernel)",
   "language": "python",
   "name": "python3"
  },
  "language_info": {
   "codemirror_mode": {
    "name": "ipython",
    "version": 3
   },
   "file_extension": ".py",
   "mimetype": "text/x-python",
   "name": "python",
   "nbconvert_exporter": "python",
   "pygments_lexer": "ipython3",
   "version": "3.12.9"
  }
 },
 "nbformat": 4,
 "nbformat_minor": 5
}
