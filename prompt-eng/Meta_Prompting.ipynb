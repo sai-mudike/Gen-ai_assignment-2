{
 "cells": [
  {
   "cell_type": "markdown",
   "id": "edc50034-2148-45e0-898d-1393596e67de",
   "metadata": {},
   "source": [
    "# Meta Prompting"
   ]
  },
  {
   "cell_type": "code",
   "execution_count": 1,
   "id": "3229464b-cfdf-48c5-b110-604a918a53c3",
   "metadata": {},
   "outputs": [
    {
     "name": "stdout",
     "output_type": "stream",
     "text": [
      "{'model': 'llama3.2:latest', 'prompt': 'Analyze the following question and generate the best way to answer it:\\nExplain the structure of feudal society.', 'stream': False, 'options': {'temperature': 1.0, 'num_ctx': 100, 'num_predict': 100}}\n",
      "Meta Prompting Response: To explain the structure of feudal society, one can break down the social hierarchy into several key components:\n",
      "\n",
      "1. **The King**: The ruler of the kingdom, who holds ultimate power and authority.\n",
      "2. **Nobility** (Dukes, Earls, Barons): High-ranking aristocrats who serve as the king's advisors, administrators, and military leaders.\n",
      "3. **Knights**: Noble-born warriors who are sworn to defend their lord and kingdom.\n",
      "4. **Vassals**:\n",
      "Time taken: 41.717s\n"
     ]
    }
   ],
   "source": [
    "from _pipeline import create_payload, model_req\n",
    "\n",
    "# Meta Prompting\n",
    "\n",
    "META_PROMPT = \"Analyze the following question and generate the best way to answer it:\"\n",
    "MESSAGE = \"Explain the structure of feudal society.\"\n",
    "PROMPT = META_PROMPT + '\\n' + MESSAGE\n",
    "payload = create_payload(target=\"ollama\", model=\"llama3.2:latest\", prompt=PROMPT, temperature=1.0, num_ctx=100, num_predict=100)\n",
    "time, response = model_req(payload=payload)\n",
    "print(\"Meta Prompting Response:\", response)\n",
    "if time: print(f'Time taken: {time}s')"
   ]
  },
  {
   "cell_type": "code",
   "execution_count": null,
   "id": "b574fab3-a6f4-4dec-bd95-ff42a301ab38",
   "metadata": {},
   "outputs": [],
   "source": []
  }
 ],
 "metadata": {
  "kernelspec": {
   "display_name": "Python 3 (ipykernel)",
   "language": "python",
   "name": "python3"
  },
  "language_info": {
   "codemirror_mode": {
    "name": "ipython",
    "version": 3
   },
   "file_extension": ".py",
   "mimetype": "text/x-python",
   "name": "python",
   "nbconvert_exporter": "python",
   "pygments_lexer": "ipython3",
   "version": "3.12.9"
  }
 },
 "nbformat": 4,
 "nbformat_minor": 5
}
