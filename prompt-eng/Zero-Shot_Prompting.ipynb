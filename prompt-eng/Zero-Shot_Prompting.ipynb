{
 "cells": [
  {
   "cell_type": "code",
   "execution_count": null,
   "id": "3229464b-cfdf-48c5-b110-604a918a53c3",
   "metadata": {},
   "outputs": [
    {
     "ename": "SyntaxError",
     "evalue": "invalid syntax (564607480.py, line 1)",
     "output_type": "error",
     "traceback": [
      "\u001b[1;36m  Cell \u001b[1;32mIn[4], line 1\u001b[1;36m\u001b[0m\n\u001b[1;33m    from my-prompt-eng import _pipeline\u001b[0m\n\u001b[1;37m           ^\u001b[0m\n\u001b[1;31mSyntaxError\u001b[0m\u001b[1;31m:\u001b[0m invalid syntax\n"
     ]
    }
   ],
   "source": [
    "from my_prompt_eng import _pipeline\n",
    "\n",
    "# # 1. Zero-Shot Prompting\n",
    "# MESSAGE = \"Explain the significance of the Battle of Hastings.\"\n",
    "# PROMPT = MESSAGE \n",
    "# payload = create_payload(target=\"ollama\", model=\"llama3.2:latest\", prompt=PROMPT, temperature=1.0, num_ctx=100, num_predict=100)\n",
    "# time, response = model_req(payload=payload)\n",
    "# print(\"Zero-Shot Response:\", response)\n",
    "# if time: print(f'Time taken: {time}s')"
   ]
  },
  {
   "cell_type": "code",
   "execution_count": null,
   "id": "b574fab3-a6f4-4dec-bd95-ff42a301ab38",
   "metadata": {},
   "outputs": [],
   "source": []
  }
 ],
 "metadata": {
  "kernelspec": {
   "display_name": "Python 3 (ipykernel)",
   "language": "python",
   "name": "python3"
  },
  "language_info": {
   "codemirror_mode": {
    "name": "ipython",
    "version": 3
   },
   "file_extension": ".py",
   "mimetype": "text/x-python",
   "name": "python",
   "nbconvert_exporter": "python",
   "pygments_lexer": "ipython3",
   "version": "3.12.9"
  }
 },
 "nbformat": 4,
 "nbformat_minor": 5
}
