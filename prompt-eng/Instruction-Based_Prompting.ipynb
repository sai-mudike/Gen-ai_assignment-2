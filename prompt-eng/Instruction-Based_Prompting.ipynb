{
 "cells": [
  {
   "cell_type": "markdown",
   "id": "cc7f8450-59e8-43bf-842e-5f4018a9d72a",
   "metadata": {},
   "source": [
    "# Instruction Based Prompting"
   ]
  },
  {
   "cell_type": "code",
   "execution_count": 1,
   "id": "3229464b-cfdf-48c5-b110-604a918a53c3",
   "metadata": {},
   "outputs": [
    {
     "name": "stdout",
     "output_type": "stream",
     "text": [
      "{'model': 'llama3.2:latest', 'prompt': 'List three key events that led to the American Revolution, using bullet points.', 'stream': False, 'options': {'temperature': 1.0, 'num_ctx': 100, 'num_predict': 100}}\n",
      "Instruction-Based Response: Here are three key events that led to the American Revolution:\n",
      "\n",
      "• **The Proclamation of 1763**: In 1763, King George III issued a proclamation that prohibited American colonists from settling west of the Appalachian Mountains, in order to prevent conflict with Native American tribes and maintain British control over land in North America. The colonists felt this was an overreach by the British government, as they had been promised access to these lands through earlier treaties.\n",
      "\n",
      "• **The Sugar Act (1764\n",
      "Time taken: 36.519s\n"
     ]
    }
   ],
   "source": [
    "from _pipeline import create_payload, model_req\n",
    "\n",
    "#Instruction-Based Prompting\n",
    "INSTRUCTION_PROMPT = \"List three key events that led to the American Revolution, using bullet points.\"\n",
    "payload = create_payload(target=\"ollama\", model=\"llama3.2:latest\", prompt=INSTRUCTION_PROMPT, temperature=1.0, num_ctx=100, num_predict=100)\n",
    "time, response = model_req(payload=payload)\n",
    "print(\"Instruction-Based Response:\", response)\n",
    "if time: print(f'Time taken: {time}s')"
   ]
  },
  {
   "cell_type": "code",
   "execution_count": null,
   "id": "b574fab3-a6f4-4dec-bd95-ff42a301ab38",
   "metadata": {},
   "outputs": [],
   "source": []
  }
 ],
 "metadata": {
  "kernelspec": {
   "display_name": "Python 3 (ipykernel)",
   "language": "python",
   "name": "python3"
  },
  "language_info": {
   "codemirror_mode": {
    "name": "ipython",
    "version": 3
   },
   "file_extension": ".py",
   "mimetype": "text/x-python",
   "name": "python",
   "nbconvert_exporter": "python",
   "pygments_lexer": "ipython3",
   "version": "3.12.9"
  }
 },
 "nbformat": 4,
 "nbformat_minor": 5
}
