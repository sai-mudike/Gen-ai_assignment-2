{
 "cells": [
  {
   "cell_type": "markdown",
   "id": "0cc49172-0bae-4a1f-9115-a3090e3a3016",
   "metadata": {},
   "source": [
    "# Self-Consistency Prompting"
   ]
  },
  {
   "cell_type": "code",
   "execution_count": 1,
   "id": "3229464b-cfdf-48c5-b110-604a918a53c3",
   "metadata": {},
   "outputs": [
    {
     "name": "stdout",
     "output_type": "stream",
     "text": [
      "{'model': 'llama3.2:latest', 'prompt': 'Summarize the causes of the French Revolution.', 'stream': False, 'options': {'temperature': 1.0, 'num_ctx': 100, 'num_predict': 100}}\n",
      "{'model': 'llama3.2:latest', 'prompt': 'Summarize the causes of the French Revolution.', 'stream': False, 'options': {'temperature': 1.0, 'num_ctx': 100, 'num_predict': 100}}\n",
      "{'model': 'llama3.2:latest', 'prompt': 'Summarize the causes of the French Revolution.', 'stream': False, 'options': {'temperature': 1.0, 'num_ctx': 100, 'num_predict': 100}}\n",
      "{'model': 'llama3.2:latest', 'prompt': 'Summarize the causes of the French Revolution.', 'stream': False, 'options': {'temperature': 1.0, 'num_ctx': 100, 'num_predict': 100}}\n",
      "{'model': 'llama3.2:latest', 'prompt': 'Summarize the causes of the French Revolution.', 'stream': False, 'options': {'temperature': 1.0, 'num_ctx': 100, 'num_predict': 100}}\n",
      "Self-Consistency Response: The French Revolution was a complex and multifaceted event with various underlying causes. Some of the key factors that contributed to its outbreak include:\n",
      "\n",
      "1. Financial Crisis: France was deeply in debt from years of expensive wars, particularly the Seven Years' War and the American Revolutionary War. The burden of taxation fell heavily on the common people, leading to widespread discontent.\n",
      "2. Social Inequality: The French social hierarchy was rigid, with a small aristocracy holding vast powers and wealth, while the majority of\n",
      "Time taken: 71.417s\n"
     ]
    }
   ],
   "source": [
    "from _pipeline import create_payload, model_req\n",
    "\n",
    "# Self-Consistency Prompting\n",
    "MESSAGE = \"Summarize the causes of the French Revolution.\"\n",
    "PROMPT = MESSAGE  # Modified for self-consistency by averaging multiple responses\n",
    "responses = []\n",
    "for _ in range(5):  # Generating multiple responses\n",
    "    payload = create_payload(target=\"ollama\", model=\"llama3.2:latest\", prompt=PROMPT, temperature=1.0, num_ctx=100, num_predict=100)\n",
    "    time, response = model_req(payload=payload)\n",
    "    responses.append(response)\n",
    "final_response = max(set(responses), key=responses.count)  # Selecting the most frequent response\n",
    "print(\"Self-Consistency Response:\", final_response)\n",
    "if time: print(f'Time taken: {time}s')"
   ]
  },
  {
   "cell_type": "code",
   "execution_count": null,
   "id": "33b1ed7c-1294-4b09-97c2-638fa2e8a3d3",
   "metadata": {},
   "outputs": [],
   "source": []
  }
 ],
 "metadata": {
  "kernelspec": {
   "display_name": "Python 3 (ipykernel)",
   "language": "python",
   "name": "python3"
  },
  "language_info": {
   "codemirror_mode": {
    "name": "ipython",
    "version": 3
   },
   "file_extension": ".py",
   "mimetype": "text/x-python",
   "name": "python",
   "nbconvert_exporter": "python",
   "pygments_lexer": "ipython3",
   "version": "3.12.9"
  }
 },
 "nbformat": 4,
 "nbformat_minor": 5
}
