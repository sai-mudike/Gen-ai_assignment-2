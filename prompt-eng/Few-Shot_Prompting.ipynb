{
 "cells": [
  {
   "cell_type": "markdown",
   "id": "7d8ec57a-cf53-4ddb-853f-fab9d3340437",
   "metadata": {},
   "source": [
    "# Few-Shot Prompting"
   ]
  },
  {
   "cell_type": "code",
   "execution_count": 1,
   "id": "3229464b-cfdf-48c5-b110-604a918a53c3",
   "metadata": {},
   "outputs": [
    {
     "name": "stdout",
     "output_type": "stream",
     "text": [
      "{'model': 'llama3.2:latest', 'prompt': \"You are a history tutor. If a student asks 'Who won the American Civil War?', you answer 'The Union won.' If a student asks 'Who was the first US president?', you answer 'George Washington.' Now answer the following question:\\nWhat was the main cause of World War I?\", 'stream': False, 'options': {'temperature': 1.0, 'num_ctx': 100, 'num_predict': 100}}\n",
      "Few-Shot Response: A very different type of question!\n",
      "\n",
      "To be more specific, the main cause of World War I is often debated among historians, but the assassination of Archduke Franz Ferdinand of Austria-Hungary by Gavrilo Princip, a Serbian nationalist, in 1914 is commonly cited as the immediate trigger for the war.\n",
      "\n",
      "The complex system of alliances and rivalries between European powers, including the great powers of Germany, France, Britain, Russia, and Austria-Hungary, created an environment in which\n",
      "Time taken: 66.052s\n"
     ]
    }
   ],
   "source": [
    "from _pipeline import create_payload, model_req\n",
    "\n",
    "# Few-Shot Prompting\n",
    "FEW_SHOT = \"You are a history tutor. If a student asks 'Who won the American Civil War?', you answer 'The Union won.' If a student asks 'Who was the first US president?', you answer 'George Washington.' Now answer the following question:\"\n",
    "MESSAGE = \"What was the main cause of World War I?\"\n",
    "PROMPT = FEW_SHOT + '\\n' + MESSAGE\n",
    "payload = create_payload(target=\"ollama\", model=\"llama3.2:latest\", prompt=PROMPT, temperature=1.0, num_ctx=100, num_predict=100)\n",
    "time, response = model_req(payload=payload)\n",
    "print(\"Few-Shot Response:\", response)\n",
    "if time: print(f'Time taken: {time}s')"
   ]
  },
  {
   "cell_type": "code",
   "execution_count": null,
   "id": "b574fab3-a6f4-4dec-bd95-ff42a301ab38",
   "metadata": {},
   "outputs": [],
   "source": []
  }
 ],
 "metadata": {
  "kernelspec": {
   "display_name": "Python 3 (ipykernel)",
   "language": "python",
   "name": "python3"
  },
  "language_info": {
   "codemirror_mode": {
    "name": "ipython",
    "version": 3
   },
   "file_extension": ".py",
   "mimetype": "text/x-python",
   "name": "python",
   "nbconvert_exporter": "python",
   "pygments_lexer": "ipython3",
   "version": "3.12.9"
  }
 },
 "nbformat": 4,
 "nbformat_minor": 5
}
