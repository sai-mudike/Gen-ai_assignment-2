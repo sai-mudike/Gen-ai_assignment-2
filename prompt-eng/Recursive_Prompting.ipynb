{
 "cells": [
  {
   "cell_type": "markdown",
   "id": "3efc54de-a86e-43bf-8400-b4f49224c0a8",
   "metadata": {},
   "source": [
    "# Recursive Prompting"
   ]
  },
  {
   "cell_type": "code",
   "execution_count": 1,
   "id": "3229464b-cfdf-48c5-b110-604a918a53c3",
   "metadata": {},
   "outputs": [
    {
     "name": "stdout",
     "output_type": "stream",
     "text": [
      "{'model': 'llama3.2:latest', 'prompt': 'Describe the causes of World War II.', 'stream': False, 'options': {'temperature': 1.0, 'num_ctx': 100, 'num_predict': 100}}\n",
      "Recursive Prompting (First Pass): World War II was a complex and multifaceted conflict that involved many countries and had various causes. Here are some of the main causes:\n",
      "\n",
      "1. **Rise of Nationalism and Fascism**: The interwar period saw a surge in nationalism and fascist ideologies, which led to the aggressive expansion of Germany, Italy, and Japan under the leadership of Adolf Hitler, Benito Mussolini, and Hideki Tojo, respectively.\n",
      "2. **German Resentment after World War I**: Germany was\n",
      "{'model': 'llama3.2:latest', 'prompt': 'Expand on this response: World War II was a complex and multifaceted conflict that involved many countries and had various causes. Here are some of the main causes:\\n\\n1. **Rise of Nationalism and Fascism**: The interwar period saw a surge in nationalism and fascist ideologies, which led to the aggressive expansion of Germany, Italy, and Japan under the leadership of Adolf Hitler, Benito Mussolini, and Hideki Tojo, respectively.\\n2. **German Resentment after World War I**: Germany was', 'stream': False, 'options': {'temperature': 1.0, 'num_ctx': 100, 'num_predict': 100}}\n",
      "Recursive Prompting (Second Pass): I can continue from where you started.\n",
      "\n",
      "2. **German Resentment after World War I**: Germany was devastated by the Treaty of Versailles, which imposed harsh penalties and reparations on the country. This led to widespread resentment among the German people, who felt that they were being unfairly punished for the actions of their government.\n",
      "\n",
      "3. **Rise of Nationalism and Militarism**: In the aftermath of World War I, there was a resurgence of nationalism and militarism in Germany. Many\n",
      "Time taken: 36.956s\n"
     ]
    }
   ],
   "source": [
    "from _pipeline import create_payload, model_req\n",
    "\n",
    "#Recursive Prompting\n",
    "\n",
    "MESSAGE = \"Describe the causes of World War II.\"\n",
    "PROMPT = MESSAGE\n",
    "payload = create_payload(target=\"ollama\", model=\"llama3.2:latest\", prompt=PROMPT, temperature=1.0, num_ctx=100, num_predict=100)\n",
    "time, response = model_req(payload=payload)\n",
    "print(\"Recursive Prompting (First Pass):\", response)\n",
    "NEW_PROMPT = \"Expand on this response: \" + response\n",
    "payload = create_payload(target=\"ollama\", model=\"llama3.2:latest\", prompt=NEW_PROMPT, temperature=1.0, num_ctx=100, num_predict=100)\n",
    "time, response = model_req(payload=payload)\n",
    "print(\"Recursive Prompting (Second Pass):\", response)\n",
    "\n",
    "if time: print(f'Time taken: {time}s')"
   ]
  },
  {
   "cell_type": "code",
   "execution_count": null,
   "id": "b574fab3-a6f4-4dec-bd95-ff42a301ab38",
   "metadata": {},
   "outputs": [],
   "source": []
  }
 ],
 "metadata": {
  "kernelspec": {
   "display_name": "Python 3 (ipykernel)",
   "language": "python",
   "name": "python3"
  },
  "language_info": {
   "codemirror_mode": {
    "name": "ipython",
    "version": 3
   },
   "file_extension": ".py",
   "mimetype": "text/x-python",
   "name": "python",
   "nbconvert_exporter": "python",
   "pygments_lexer": "ipython3",
   "version": "3.12.9"
  }
 },
 "nbformat": 4,
 "nbformat_minor": 5
}
