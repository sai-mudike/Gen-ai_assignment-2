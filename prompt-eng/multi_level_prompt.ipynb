{
 "cells": [
  {
   "cell_type": "markdown",
   "id": "78bc2ad4-b02c-408e-956a-e2cec6d5586a",
   "metadata": {},
   "source": [
    "# Automation Prompt Engineering Techniques"
   ]
  },
  {
   "cell_type": "code",
   "execution_count": 1,
   "id": "abc4b31a-2344-4505-996f-3c1d2f472635",
   "metadata": {},
   "outputs": [
    {
     "name": "stdout",
     "output_type": "stream",
     "text": [
      "{'model': 'llama3.2:latest', 'prompt': \"\\nYou are an expert in requirement analysis for educational chatbots.\\nGenerate a comprehensive prompt to perform a detailed requirement analysis for 'Pastpal', \\na Discord-based chatbot designed to help students learn history in an interactive and engaging way.\\nThe generated prompt should include:\\n- Functional requirements (e.g., providing tutoring assistance, interactive historical timelines, answering history questions).\\n- Non-functional requirements (e.g., scalability, response time, ease-of-use, reliability).\\n- Integration requirements with Discord (e.g., command handling, user authentication, notification system).\\n- Considerations for user engagement (e.g., interactive quizzes, multimedia integration, feedback mechanisms).\\n\", 'stream': False, 'options': {'temperature': 1.0, 'num_ctx': 200, 'num_predict': 200}}\n",
      "Generated Requirement Analysis Prompt for Pastpal:\n",
      "Here's a comprehensive prompt to perform a detailed requirement analysis for \"Pastpal\", a Discord-based chatbot designed to help students learn history in an interactive and engaging way:\n",
      "\n",
      "**Project Name:** Pastpal - Interactive History Chatbot\n",
      "\n",
      "**Background:** Pastpal aims to create an immersive learning experience for students by utilizing a conversational AI-powered chatbot within the popular messaging platform, Discord. The goal is to engage users with historical content, quizzes, and multimedia materials while fostering a sense of community among learners.\n",
      "\n",
      "**Functional Requirements:**\n",
      "\n",
      "1. **User Authentication:** Integrate user authentication mechanisms to ensure only authorized users can access the Pastpal bot's features.\n",
      "2. **Command Handling:** Implement command handling for users to interact with Pastpal using pre-defined commands (e.g., \"learn about [historical event]\") and natural language processing (NLP) to handle complex queries.\n",
      "3. **Knowledge Base:** Develop a knowledge base containing historical content, including articles, videos, images, and multimedia resources\n",
      "\n",
      "\n"
     ]
    }
   ],
   "source": [
    "from _pipeline import create_payload, model_req\n",
    "\n",
    "# -------------------------------\n",
    "# Level-1: Automated Prompt Generation for Requirement Analysis\n",
    "# -------------------------------\n",
    "\n",
    "META_PROMPT = \"\"\"\n",
    "You are an expert in requirement analysis for educational chatbots.\n",
    "Generate a comprehensive prompt to perform a detailed requirement analysis for 'Pastpal', \n",
    "a Discord-based chatbot designed to help students learn history in an interactive and engaging way.\n",
    "The generated prompt should include:\n",
    "- Functional requirements (e.g., providing tutoring assistance, interactive historical timelines, answering history questions).\n",
    "- Non-functional requirements (e.g., scalability, response time, ease-of-use, reliability).\n",
    "- Integration requirements with Discord (e.g., command handling, user authentication, notification system).\n",
    "- Considerations for user engagement (e.g., interactive quizzes, multimedia integration, feedback mechanisms).\n",
    "\"\"\"\n",
    "\n",
    "# Generate the requirement analysis prompt for Pastpal\n",
    "payload = create_payload(\n",
    "    target=\"ollama\",\n",
    "    model=\"llama3.2:latest\",\n",
    "    prompt=META_PROMPT,\n",
    "    temperature=1.0,\n",
    "    num_ctx=200,\n",
    "    num_predict=200\n",
    ")\n",
    "time, generated_prompt = model_req(payload=payload)\n",
    "print(\"Generated Requirement Analysis Prompt for Pastpal:\")\n",
    "print(generated_prompt)\n",
    "print(\"\\n\")\n"
   ]
  },
  {
   "cell_type": "code",
   "execution_count": 2,
   "id": "fdf9e5ae-cb37-4718-a0e6-578b5dba12b3",
   "metadata": {},
   "outputs": [
    {
     "name": "stdout",
     "output_type": "stream",
     "text": [
      "{'model': 'llama3.2:latest', 'prompt': 'Here\\'s a comprehensive prompt to perform a detailed requirement analysis for \"Pastpal\", a Discord-based chatbot designed to help students learn history in an interactive and engaging way:\\n\\n**Project Name:** Pastpal - Interactive History Chatbot\\n\\n**Background:** Pastpal aims to create an immersive learning experience for students by utilizing a conversational AI-powered chatbot within the popular messaging platform, Discord. The goal is to engage users with historical content, quizzes, and multimedia materials while fostering a sense of community among learners.\\n\\n**Functional Requirements:**\\n\\n1. **User Authentication:** Integrate user authentication mechanisms to ensure only authorized users can access the Pastpal bot\\'s features.\\n2. **Command Handling:** Implement command handling for users to interact with Pastpal using pre-defined commands (e.g., \"learn about [historical event]\") and natural language processing (NLP) to handle complex queries.\\n3. **Knowledge Base:** Develop a knowledge base containing historical content, including articles, videos, images, and multimedia resources\\nNow, using the above prompt, provide a detailed requirement analysis for Pastpal.', 'stream': False, 'options': {'temperature': 1.0, 'num_ctx': 300, 'num_predict': 300}}\n",
      "Detailed Requirement Analysis for Pastpal:\n",
      "**Detailed Requirement Analysis: Pastpal - Interactive History Chatbot**\n",
      "\n",
      "**Project Overview:**\n",
      "Pastpal is a Discord-based chatbot designed to facilitate interactive learning of history among students. The project aims to leverage conversational AI and multimedia resources to create an engaging and immersive experience.\n",
      "\n",
      "**Functional Requirements:**\n",
      "\n",
      "1. **Command Handling:**\n",
      "\t* Define a set of pre-defined commands (e.g., \"learn about [historical event],\" \"show video on [topic],\" \"share image from [time period]\").\n",
      "\t* Develop NLP capabilities to handle complex queries, including open-ended questions and variations in syntax.\n",
      "\t* Integrate with natural language processing (NLP) libraries or frameworks to improve command understanding and response accuracy.\n",
      "2. **Knowledge Base:**\n",
      "\t* Design a scalable knowledge base containing historical content, including:\n",
      "\t\t+ Articles on various historical events, periods, and topics\n",
      "\t\t+ Videos showcasing historical figures, events, and cultural practices\n",
      "\t\t+ Images and multimedia resources (e.g., audio clips, PDFs) related to historical context\n",
      "\t* Implement data storage solutions (e.g., databases, caching layers) to efficiently manage and retrieve content.\n",
      "3. **Content Retrieval:**\n",
      "\t* Develop an efficient search algorithm to quickly find relevant content based on user queries or input.\n",
      "\t* Integrate faceted search capabilities for users to refine their searches by specifying additional parameters (e.g., \"filter results by region\" or \"show only videos from\n"
     ]
    }
   ],
   "source": [
    "# -------------------------------\n",
    "# Level-2: Using the Generated Prompt to Perform Requirement Analysis\n",
    "# -------------------------------\n",
    "\n",
    "LEVEL2_PROMPT = generated_prompt + \"\\nNow, using the above prompt, provide a detailed requirement analysis for Pastpal.\"\n",
    "payload = create_payload(\n",
    "    target=\"ollama\",\n",
    "    model=\"llama3.2:latest\",\n",
    "    prompt=LEVEL2_PROMPT,\n",
    "    temperature=1.0,\n",
    "    num_ctx=300,\n",
    "    num_predict=300\n",
    ")\n",
    "time, final_response = model_req(payload=payload)\n",
    "print(\"Detailed Requirement Analysis for Pastpal:\")\n",
    "print(final_response)\n"
   ]
  },
  {
   "cell_type": "markdown",
   "id": "c2fc87a3-d55f-400b-9eef-61caca344158",
   "metadata": {},
   "source": [
    "### Performance and Behavior Analysis:\n",
    "\n",
    "1. **Level-1 Prompt Works Well**: The first step creates a clear and organized prompt for analyzing Pastpal's requirements, which helps guide the process effectively.\n",
    "\n",
    "2. **Level-2 Prompt Gives Detailed Results**: Using the Level-1 prompt, the second step provides a complete analysis, covering functional, non-functional, and integration needs.\n",
    "\n",
    "3. **Clarity Matters**: If the Level-1 prompt is unclear, the Level-2 results may not be as accurate or useful.\n",
    "\n",
    "4. **Longer Process, More Resources**: Chaining prompts together uses more resources and can slow things down. It also risks losing focus if not managed properly.\n",
    "\n",
    "5. **Potential Issues**: Over multiple steps, the analysis might drift from the original goal, and small errors can add up, reducing accuracy.\n",
    "\n",
    "6. **Improvements Possible**: Adding feedback loops and tweaking settings (like temperature or context size) could make the process more consistent and reliable in the future.\n",
    "\n",
    "This summary shows what works well and what can be improved for better results."
   ]
  },
  {
   "cell_type": "code",
   "execution_count": null,
   "id": "5a12eed2-08c2-4082-990e-db1098eff95c",
   "metadata": {},
   "outputs": [],
   "source": []
  }
 ],
 "metadata": {
  "kernelspec": {
   "display_name": "Python 3 (ipykernel)",
   "language": "python",
   "name": "python3"
  },
  "language_info": {
   "codemirror_mode": {
    "name": "ipython",
    "version": 3
   },
   "file_extension": ".py",
   "mimetype": "text/x-python",
   "name": "python",
   "nbconvert_exporter": "python",
   "pygments_lexer": "ipython3",
   "version": "3.12.9"
  }
 },
 "nbformat": 4,
 "nbformat_minor": 5
}
