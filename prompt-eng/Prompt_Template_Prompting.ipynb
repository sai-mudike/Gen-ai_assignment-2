{
 "cells": [
  {
   "cell_type": "markdown",
   "id": "65d30d5e-6af9-4049-9b3a-48dcd94a8e93",
   "metadata": {},
   "source": [
    "# Prompt Template Prompting"
   ]
  },
  {
   "cell_type": "code",
   "execution_count": 3,
   "id": "3229464b-cfdf-48c5-b110-604a918a53c3",
   "metadata": {},
   "outputs": [
    {
     "name": "stdout",
     "output_type": "stream",
     "text": [
      "{'model': 'llama3.2:latest', 'prompt': \"You are a history professor. Answer this student's question:\\nWhat was the impact of the Industrial Revolution?\\nProvide the response in simple terms.\", 'stream': False, 'options': {'temperature': 1.0, 'num_ctx': 100, 'num_predict': 100}}\n",
      "Prompt Template Response: The Industrial Revolution had a profound impact on the world, and I'd be happy to break it down for you.\n",
      "\n",
      "The Industrial Revolution began in Britain in the mid-18th century and lasted until the early 19th century. During this time, new machines and factories replaced traditional craft-based manufacturing methods.\n",
      "\n",
      "Here are some key changes that came out of the Industrial Revolution:\n",
      "\n",
      "1. **Mass production**: With the invention of the spinning jenny, power loom, and other machinery, mass production became\n",
      "Time taken: 88.32s\n"
     ]
    }
   ],
   "source": [
    "from _pipeline import create_payload, model_req\n",
    "\n",
    "#Prompt Template Prompting\n",
    "\n",
    "TEMPLATE_BEFORE=\"You are a history professor. Answer this student's question:\"\n",
    "TEMPLATE_AFTER=\"Provide the response in simple terms.\"\n",
    "MESSAGE = \"What was the impact of the Industrial Revolution?\"\n",
    "PROMPT = TEMPLATE_BEFORE + '\\n' + MESSAGE + '\\n' + TEMPLATE_AFTER\n",
    "payload = create_payload(target=\"ollama\", model=\"llama3.2:latest\", prompt=PROMPT, temperature=1.0, num_ctx=100, num_predict=100)\n",
    "time, response = model_req(payload=payload)\n",
    "print(\"Prompt Template Response:\", response)\n",
    "\n",
    "if time: print(f'Time taken: {time}s')"
   ]
  },
  {
   "cell_type": "code",
   "execution_count": null,
   "id": "b574fab3-a6f4-4dec-bd95-ff42a301ab38",
   "metadata": {},
   "outputs": [],
   "source": []
  }
 ],
 "metadata": {
  "kernelspec": {
   "display_name": "Python 3 (ipykernel)",
   "language": "python",
   "name": "python3"
  },
  "language_info": {
   "codemirror_mode": {
    "name": "ipython",
    "version": 3
   },
   "file_extension": ".py",
   "mimetype": "text/x-python",
   "name": "python",
   "nbconvert_exporter": "python",
   "pygments_lexer": "ipython3",
   "version": "3.12.9"
  }
 },
 "nbformat": 4,
 "nbformat_minor": 5
}
