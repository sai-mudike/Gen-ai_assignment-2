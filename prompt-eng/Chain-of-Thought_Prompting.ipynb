{
 "cells": [
  {
   "cell_type": "markdown",
   "id": "e1024e29-ead2-4c3e-a0c8-cdfd9ca555e1",
   "metadata": {},
   "source": [
    "# Chain-of-Thought Prompting"
   ]
  },
  {
   "cell_type": "code",
   "execution_count": 1,
   "id": "3229464b-cfdf-48c5-b110-604a918a53c3",
   "metadata": {},
   "outputs": [
    {
     "name": "stdout",
     "output_type": "stream",
     "text": [
      "{'model': 'llama3.2:latest', 'prompt': '\\nThe Renaissance led to major changes in Europe: Art, Science, Religion.\\nQ: What was one major impact of the Renaissance?\\nA: The Renaissance led to the rise of humanism, emphasizing individual potential and achievements.\\nThe Age of Exploration changed global trade and interaction.\\nQ: What was a key effect of the Age of Exploration?\\nA: It led to the Columbian Exchange, introducing new crops and animals between the Old and New Worlds.\\nNow answer the following question: What was a major consequence of the fall of the Roman Empire?\\nProvide only the answer, no explanation!\\n', 'stream': False, 'options': {'temperature': 1.0, 'num_ctx': 100, 'num_predict': 100}}\n",
      "Chain-of-Thought Response: The decline of urban centers and the rise of feudalism.\n",
      "Time taken: 19.446s\n"
     ]
    }
   ],
   "source": [
    "from _pipeline import create_payload, model_req\n",
    "\n",
    " # Chain-of-Thought Prompting\n",
    "CHAIN_OF_THOUGHT = f\"\"\"\n",
    "The Renaissance led to major changes in Europe: Art, Science, Religion.\n",
    "Q: What was one major impact of the Renaissance?\n",
    "A: The Renaissance led to the rise of humanism, emphasizing individual potential and achievements.\n",
    "The Age of Exploration changed global trade and interaction.\n",
    "Q: What was a key effect of the Age of Exploration?\n",
    "A: It led to the Columbian Exchange, introducing new crops and animals between the Old and New Worlds.\n",
    "Now answer the following question: What was a major consequence of the fall of the Roman Empire?\n",
    "Provide only the answer, no explanation!\n",
    "\"\"\"\n",
    "PROMPT = CHAIN_OF_THOUGHT\n",
    "payload = create_payload(target=\"ollama\", model=\"llama3.2:latest\", prompt=PROMPT, temperature=1.0, num_ctx=100, num_predict=100)\n",
    "time, response = model_req(payload=payload)\n",
    "print(\"Chain-of-Thought Response:\", response)\n",
    "\n",
    "if time: print(f'Time taken: {time}s')"
   ]
  },
  {
   "cell_type": "code",
   "execution_count": null,
   "id": "b574fab3-a6f4-4dec-bd95-ff42a301ab38",
   "metadata": {},
   "outputs": [],
   "source": []
  }
 ],
 "metadata": {
  "kernelspec": {
   "display_name": "Python 3 (ipykernel)",
   "language": "python",
   "name": "python3"
  },
  "language_info": {
   "codemirror_mode": {
    "name": "ipython",
    "version": 3
   },
   "file_extension": ".py",
   "mimetype": "text/x-python",
   "name": "python",
   "nbconvert_exporter": "python",
   "pygments_lexer": "ipython3",
   "version": "3.12.9"
  }
 },
 "nbformat": 4,
 "nbformat_minor": 5
}
